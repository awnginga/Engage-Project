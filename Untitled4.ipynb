{
  "nbformat": 4,
  "nbformat_minor": 0,
  "metadata": {
    "colab": {
      "provenance": [],
      "authorship_tag": "ABX9TyPIuu1PcfOrIPcFphIgJ/qn",
      "include_colab_link": true
    },
    "kernelspec": {
      "name": "python3",
      "display_name": "Python 3"
    },
    "language_info": {
      "name": "python"
    }
  },
  "cells": [
    {
      "cell_type": "markdown",
      "metadata": {
        "id": "view-in-github",
        "colab_type": "text"
      },
      "source": [
        "<a href=\"https://colab.research.google.com/github/awnginga/Engage-Project/blob/main/Untitled4.ipynb\" target=\"_parent\"><img src=\"https://colab.research.google.com/assets/colab-badge.svg\" alt=\"Open In Colab\"/></a>"
      ]
    },
    {
      "cell_type": "code",
      "execution_count": 4,
      "metadata": {
        "id": "P-xnpxH8Zasm"
      },
      "outputs": [],
      "source": [
        "# Import the numpy library and give it the alias 'np'\n",
        "import numpy as np"
      ]
    },
    {
      "cell_type": "code",
      "source": [
        "# Population of 1000 individuals\n",
        "population = np.arange(1,1001)"
      ],
      "metadata": {
        "id": "IjtYnvCjbp7V"
      },
      "execution_count": 5,
      "outputs": []
    },
    {
      "cell_type": "code",
      "source": [
        "# Sample size\n",
        "sample_size = 100"
      ],
      "metadata": {
        "id": "MoDtacOzbsNM"
      },
      "execution_count": 6,
      "outputs": []
    },
    {
      "cell_type": "code",
      "source": [
        "# Set seed for reproducibility\n",
        "np.random.seed(123)"
      ],
      "metadata": {
        "id": "zkQXN3pkbxXd"
      },
      "execution_count": 7,
      "outputs": []
    },
    {
      "cell_type": "code",
      "source": [
        "# Simple random sample\n",
        "sample = np.random.choice(population, sample_size,\n",
        "replace=False)"
      ],
      "metadata": {
        "id": "fT0IAoh6b3TN"
      },
      "execution_count": 8,
      "outputs": []
    },
    {
      "cell_type": "code",
      "source": [
        "print(\"Sample:\", sample)"
      ],
      "metadata": {
        "colab": {
          "base_uri": "https://localhost:8080/"
        },
        "id": "er1_3eJjb-iV",
        "outputId": "34ff88cf-ecec-4c3a-ceda-7db21439e565"
      },
      "execution_count": 10,
      "outputs": [
        {
          "output_type": "stream",
          "name": "stdout",
          "text": [
            "Sample: [132 204  51 586 139 633 329 462 925 480 196 222 210 379 157 328 762 321\n",
            " 275 418 373 300 230 897 595 984 737  86 883   8 723  44 567 318 875 744\n",
            " 354 146 347 591 772 337 634 311 694 692 339 902 319 353 162 543 787 918\n",
            " 388 197 649 168 598 393 804 537 173 831 183 703 785 614 966 172 346 823\n",
            " 878 148 549 643 972 935 185 608 438 267 809 448 714 115 657 986 427   6\n",
            " 641 987 933  42 135 939 815 995 806 559]\n"
          ]
        }
      ]
    },
    {
      "cell_type": "code",
      "source": [
        "import pandas as pd\n",
        "df=pd.read_csv('/content/Child health data Practice.csv')\n",
        "df.head()"
      ],
      "metadata": {
        "colab": {
          "base_uri": "https://localhost:8080/",
          "height": 276
        },
        "id": "YLxOu-IIfQHG",
        "outputId": "bed8cdf6-e9b8-40c8-8a93-69b373938a14"
      },
      "execution_count": 14,
      "outputs": [
        {
          "output_type": "execute_result",
          "data": {
            "text/plain": [
              "   Child participated in POLIO campaign August 2013  diarrhea_status  weight  \\\n",
              "0                                                 1               No    16.2   \n",
              "1                                                 1               No    13.5   \n",
              "2                                                 1               No    13.4   \n",
              "3                                                 1               No    15.0   \n",
              "4                                                 1               No    15.2   \n",
              "\n",
              "   Height residence     Sex  age age_category   education wealth_index  \n",
              "0   102.4     Rural  Female   45        36-47  Secondary+      Richest  \n",
              "1    92.5     Rural    Male   45        36-47     Primary       Second  \n",
              "2    88.5     Rural    Male   36        36-47     Primary       Fourth  \n",
              "3   101.3     Rural  Female   51        48-59     Primary       Fourth  \n",
              "4   105.0     Rural  Female   56        48-59     Primary       Fourth  "
            ],
            "text/html": [
              "\n",
              "  <div id=\"df-d1929404-0c7f-42cc-88dd-4390aa74d74a\" class=\"colab-df-container\">\n",
              "    <div>\n",
              "<style scoped>\n",
              "    .dataframe tbody tr th:only-of-type {\n",
              "        vertical-align: middle;\n",
              "    }\n",
              "\n",
              "    .dataframe tbody tr th {\n",
              "        vertical-align: top;\n",
              "    }\n",
              "\n",
              "    .dataframe thead th {\n",
              "        text-align: right;\n",
              "    }\n",
              "</style>\n",
              "<table border=\"1\" class=\"dataframe\">\n",
              "  <thead>\n",
              "    <tr style=\"text-align: right;\">\n",
              "      <th></th>\n",
              "      <th>Child participated in POLIO campaign August 2013</th>\n",
              "      <th>diarrhea_status</th>\n",
              "      <th>weight</th>\n",
              "      <th>Height</th>\n",
              "      <th>residence</th>\n",
              "      <th>Sex</th>\n",
              "      <th>age</th>\n",
              "      <th>age_category</th>\n",
              "      <th>education</th>\n",
              "      <th>wealth_index</th>\n",
              "    </tr>\n",
              "  </thead>\n",
              "  <tbody>\n",
              "    <tr>\n",
              "      <th>0</th>\n",
              "      <td>1</td>\n",
              "      <td>No</td>\n",
              "      <td>16.2</td>\n",
              "      <td>102.4</td>\n",
              "      <td>Rural</td>\n",
              "      <td>Female</td>\n",
              "      <td>45</td>\n",
              "      <td>36-47</td>\n",
              "      <td>Secondary+</td>\n",
              "      <td>Richest</td>\n",
              "    </tr>\n",
              "    <tr>\n",
              "      <th>1</th>\n",
              "      <td>1</td>\n",
              "      <td>No</td>\n",
              "      <td>13.5</td>\n",
              "      <td>92.5</td>\n",
              "      <td>Rural</td>\n",
              "      <td>Male</td>\n",
              "      <td>45</td>\n",
              "      <td>36-47</td>\n",
              "      <td>Primary</td>\n",
              "      <td>Second</td>\n",
              "    </tr>\n",
              "    <tr>\n",
              "      <th>2</th>\n",
              "      <td>1</td>\n",
              "      <td>No</td>\n",
              "      <td>13.4</td>\n",
              "      <td>88.5</td>\n",
              "      <td>Rural</td>\n",
              "      <td>Male</td>\n",
              "      <td>36</td>\n",
              "      <td>36-47</td>\n",
              "      <td>Primary</td>\n",
              "      <td>Fourth</td>\n",
              "    </tr>\n",
              "    <tr>\n",
              "      <th>3</th>\n",
              "      <td>1</td>\n",
              "      <td>No</td>\n",
              "      <td>15.0</td>\n",
              "      <td>101.3</td>\n",
              "      <td>Rural</td>\n",
              "      <td>Female</td>\n",
              "      <td>51</td>\n",
              "      <td>48-59</td>\n",
              "      <td>Primary</td>\n",
              "      <td>Fourth</td>\n",
              "    </tr>\n",
              "    <tr>\n",
              "      <th>4</th>\n",
              "      <td>1</td>\n",
              "      <td>No</td>\n",
              "      <td>15.2</td>\n",
              "      <td>105.0</td>\n",
              "      <td>Rural</td>\n",
              "      <td>Female</td>\n",
              "      <td>56</td>\n",
              "      <td>48-59</td>\n",
              "      <td>Primary</td>\n",
              "      <td>Fourth</td>\n",
              "    </tr>\n",
              "  </tbody>\n",
              "</table>\n",
              "</div>\n",
              "    <div class=\"colab-df-buttons\">\n",
              "\n",
              "  <div class=\"colab-df-container\">\n",
              "    <button class=\"colab-df-convert\" onclick=\"convertToInteractive('df-d1929404-0c7f-42cc-88dd-4390aa74d74a')\"\n",
              "            title=\"Convert this dataframe to an interactive table.\"\n",
              "            style=\"display:none;\">\n",
              "\n",
              "  <svg xmlns=\"http://www.w3.org/2000/svg\" height=\"24px\" viewBox=\"0 -960 960 960\">\n",
              "    <path d=\"M120-120v-720h720v720H120Zm60-500h600v-160H180v160Zm220 220h160v-160H400v160Zm0 220h160v-160H400v160ZM180-400h160v-160H180v160Zm440 0h160v-160H620v160ZM180-180h160v-160H180v160Zm440 0h160v-160H620v160Z\"/>\n",
              "  </svg>\n",
              "    </button>\n",
              "\n",
              "  <style>\n",
              "    .colab-df-container {\n",
              "      display:flex;\n",
              "      gap: 12px;\n",
              "    }\n",
              "\n",
              "    .colab-df-convert {\n",
              "      background-color: #E8F0FE;\n",
              "      border: none;\n",
              "      border-radius: 50%;\n",
              "      cursor: pointer;\n",
              "      display: none;\n",
              "      fill: #1967D2;\n",
              "      height: 32px;\n",
              "      padding: 0 0 0 0;\n",
              "      width: 32px;\n",
              "    }\n",
              "\n",
              "    .colab-df-convert:hover {\n",
              "      background-color: #E2EBFA;\n",
              "      box-shadow: 0px 1px 2px rgba(60, 64, 67, 0.3), 0px 1px 3px 1px rgba(60, 64, 67, 0.15);\n",
              "      fill: #174EA6;\n",
              "    }\n",
              "\n",
              "    .colab-df-buttons div {\n",
              "      margin-bottom: 4px;\n",
              "    }\n",
              "\n",
              "    [theme=dark] .colab-df-convert {\n",
              "      background-color: #3B4455;\n",
              "      fill: #D2E3FC;\n",
              "    }\n",
              "\n",
              "    [theme=dark] .colab-df-convert:hover {\n",
              "      background-color: #434B5C;\n",
              "      box-shadow: 0px 1px 3px 1px rgba(0, 0, 0, 0.15);\n",
              "      filter: drop-shadow(0px 1px 2px rgba(0, 0, 0, 0.3));\n",
              "      fill: #FFFFFF;\n",
              "    }\n",
              "  </style>\n",
              "\n",
              "    <script>\n",
              "      const buttonEl =\n",
              "        document.querySelector('#df-d1929404-0c7f-42cc-88dd-4390aa74d74a button.colab-df-convert');\n",
              "      buttonEl.style.display =\n",
              "        google.colab.kernel.accessAllowed ? 'block' : 'none';\n",
              "\n",
              "      async function convertToInteractive(key) {\n",
              "        const element = document.querySelector('#df-d1929404-0c7f-42cc-88dd-4390aa74d74a');\n",
              "        const dataTable =\n",
              "          await google.colab.kernel.invokeFunction('convertToInteractive',\n",
              "                                                    [key], {});\n",
              "        if (!dataTable) return;\n",
              "\n",
              "        const docLinkHtml = 'Like what you see? Visit the ' +\n",
              "          '<a target=\"_blank\" href=https://colab.research.google.com/notebooks/data_table.ipynb>data table notebook</a>'\n",
              "          + ' to learn more about interactive tables.';\n",
              "        element.innerHTML = '';\n",
              "        dataTable['output_type'] = 'display_data';\n",
              "        await google.colab.output.renderOutput(dataTable, element);\n",
              "        const docLink = document.createElement('div');\n",
              "        docLink.innerHTML = docLinkHtml;\n",
              "        element.appendChild(docLink);\n",
              "      }\n",
              "    </script>\n",
              "  </div>\n",
              "\n",
              "\n",
              "<div id=\"df-86e82c93-56ed-48b3-b50c-0f2b33ea9612\">\n",
              "  <button class=\"colab-df-quickchart\" onclick=\"quickchart('df-86e82c93-56ed-48b3-b50c-0f2b33ea9612')\"\n",
              "            title=\"Suggest charts\"\n",
              "            style=\"display:none;\">\n",
              "\n",
              "<svg xmlns=\"http://www.w3.org/2000/svg\" height=\"24px\"viewBox=\"0 0 24 24\"\n",
              "     width=\"24px\">\n",
              "    <g>\n",
              "        <path d=\"M19 3H5c-1.1 0-2 .9-2 2v14c0 1.1.9 2 2 2h14c1.1 0 2-.9 2-2V5c0-1.1-.9-2-2-2zM9 17H7v-7h2v7zm4 0h-2V7h2v10zm4 0h-2v-4h2v4z\"/>\n",
              "    </g>\n",
              "</svg>\n",
              "  </button>\n",
              "\n",
              "<style>\n",
              "  .colab-df-quickchart {\n",
              "      --bg-color: #E8F0FE;\n",
              "      --fill-color: #1967D2;\n",
              "      --hover-bg-color: #E2EBFA;\n",
              "      --hover-fill-color: #174EA6;\n",
              "      --disabled-fill-color: #AAA;\n",
              "      --disabled-bg-color: #DDD;\n",
              "  }\n",
              "\n",
              "  [theme=dark] .colab-df-quickchart {\n",
              "      --bg-color: #3B4455;\n",
              "      --fill-color: #D2E3FC;\n",
              "      --hover-bg-color: #434B5C;\n",
              "      --hover-fill-color: #FFFFFF;\n",
              "      --disabled-bg-color: #3B4455;\n",
              "      --disabled-fill-color: #666;\n",
              "  }\n",
              "\n",
              "  .colab-df-quickchart {\n",
              "    background-color: var(--bg-color);\n",
              "    border: none;\n",
              "    border-radius: 50%;\n",
              "    cursor: pointer;\n",
              "    display: none;\n",
              "    fill: var(--fill-color);\n",
              "    height: 32px;\n",
              "    padding: 0;\n",
              "    width: 32px;\n",
              "  }\n",
              "\n",
              "  .colab-df-quickchart:hover {\n",
              "    background-color: var(--hover-bg-color);\n",
              "    box-shadow: 0 1px 2px rgba(60, 64, 67, 0.3), 0 1px 3px 1px rgba(60, 64, 67, 0.15);\n",
              "    fill: var(--button-hover-fill-color);\n",
              "  }\n",
              "\n",
              "  .colab-df-quickchart-complete:disabled,\n",
              "  .colab-df-quickchart-complete:disabled:hover {\n",
              "    background-color: var(--disabled-bg-color);\n",
              "    fill: var(--disabled-fill-color);\n",
              "    box-shadow: none;\n",
              "  }\n",
              "\n",
              "  .colab-df-spinner {\n",
              "    border: 2px solid var(--fill-color);\n",
              "    border-color: transparent;\n",
              "    border-bottom-color: var(--fill-color);\n",
              "    animation:\n",
              "      spin 1s steps(1) infinite;\n",
              "  }\n",
              "\n",
              "  @keyframes spin {\n",
              "    0% {\n",
              "      border-color: transparent;\n",
              "      border-bottom-color: var(--fill-color);\n",
              "      border-left-color: var(--fill-color);\n",
              "    }\n",
              "    20% {\n",
              "      border-color: transparent;\n",
              "      border-left-color: var(--fill-color);\n",
              "      border-top-color: var(--fill-color);\n",
              "    }\n",
              "    30% {\n",
              "      border-color: transparent;\n",
              "      border-left-color: var(--fill-color);\n",
              "      border-top-color: var(--fill-color);\n",
              "      border-right-color: var(--fill-color);\n",
              "    }\n",
              "    40% {\n",
              "      border-color: transparent;\n",
              "      border-right-color: var(--fill-color);\n",
              "      border-top-color: var(--fill-color);\n",
              "    }\n",
              "    60% {\n",
              "      border-color: transparent;\n",
              "      border-right-color: var(--fill-color);\n",
              "    }\n",
              "    80% {\n",
              "      border-color: transparent;\n",
              "      border-right-color: var(--fill-color);\n",
              "      border-bottom-color: var(--fill-color);\n",
              "    }\n",
              "    90% {\n",
              "      border-color: transparent;\n",
              "      border-bottom-color: var(--fill-color);\n",
              "    }\n",
              "  }\n",
              "</style>\n",
              "\n",
              "  <script>\n",
              "    async function quickchart(key) {\n",
              "      const quickchartButtonEl =\n",
              "        document.querySelector('#' + key + ' button');\n",
              "      quickchartButtonEl.disabled = true;  // To prevent multiple clicks.\n",
              "      quickchartButtonEl.classList.add('colab-df-spinner');\n",
              "      try {\n",
              "        const charts = await google.colab.kernel.invokeFunction(\n",
              "            'suggestCharts', [key], {});\n",
              "      } catch (error) {\n",
              "        console.error('Error during call to suggestCharts:', error);\n",
              "      }\n",
              "      quickchartButtonEl.classList.remove('colab-df-spinner');\n",
              "      quickchartButtonEl.classList.add('colab-df-quickchart-complete');\n",
              "    }\n",
              "    (() => {\n",
              "      let quickchartButtonEl =\n",
              "        document.querySelector('#df-86e82c93-56ed-48b3-b50c-0f2b33ea9612 button');\n",
              "      quickchartButtonEl.style.display =\n",
              "        google.colab.kernel.accessAllowed ? 'block' : 'none';\n",
              "    })();\n",
              "  </script>\n",
              "</div>\n",
              "\n",
              "    </div>\n",
              "  </div>\n"
            ],
            "application/vnd.google.colaboratory.intrinsic+json": {
              "type": "dataframe",
              "variable_name": "df",
              "summary": "{\n  \"name\": \"df\",\n  \"rows\": 799,\n  \"fields\": [\n    {\n      \"column\": \"Child participated in POLIO campaign August 2013\",\n      \"properties\": {\n        \"dtype\": \"number\",\n        \"std\": 0,\n        \"min\": 1,\n        \"max\": 9,\n        \"num_unique_values\": 4,\n        \"samples\": [\n          2,\n          9,\n          1\n        ],\n        \"semantic_type\": \"\",\n        \"description\": \"\"\n      }\n    },\n    {\n      \"column\": \" diarrhea_status\",\n      \"properties\": {\n        \"dtype\": \"category\",\n        \"num_unique_values\": 3,\n        \"samples\": [\n          \"No\",\n          \"Yes\",\n          \"DK\"\n        ],\n        \"semantic_type\": \"\",\n        \"description\": \"\"\n      }\n    },\n    {\n      \"column\": \"weight\",\n      \"properties\": {\n        \"dtype\": \"number\",\n        \"std\": 3.4087288270461737,\n        \"min\": 3.1,\n        \"max\": 25.0,\n        \"num_unique_values\": 154,\n        \"samples\": [\n          6.9,\n          9.7,\n          18.7\n        ],\n        \"semantic_type\": \"\",\n        \"description\": \"\"\n      }\n    },\n    {\n      \"column\": \"Height\",\n      \"properties\": {\n        \"dtype\": \"number\",\n        \"std\": 13.795704117480783,\n        \"min\": 45.0,\n        \"max\": 124.8,\n        \"num_unique_values\": 396,\n        \"samples\": [\n          85.4,\n          68.7,\n          78.4\n        ],\n        \"semantic_type\": \"\",\n        \"description\": \"\"\n      }\n    },\n    {\n      \"column\": \"residence\",\n      \"properties\": {\n        \"dtype\": \"category\",\n        \"num_unique_values\": 2,\n        \"samples\": [\n          \"Urban\",\n          \"Rural\"\n        ],\n        \"semantic_type\": \"\",\n        \"description\": \"\"\n      }\n    },\n    {\n      \"column\": \"Sex\",\n      \"properties\": {\n        \"dtype\": \"category\",\n        \"num_unique_values\": 2,\n        \"samples\": [\n          \"Male\",\n          \"Female\"\n        ],\n        \"semantic_type\": \"\",\n        \"description\": \"\"\n      }\n    },\n    {\n      \"column\": \"age\",\n      \"properties\": {\n        \"dtype\": \"number\",\n        \"std\": 16,\n        \"min\": 0,\n        \"max\": 59,\n        \"num_unique_values\": 60,\n        \"samples\": [\n          45,\n          4\n        ],\n        \"semantic_type\": \"\",\n        \"description\": \"\"\n      }\n    },\n    {\n      \"column\": \"age_category\",\n      \"properties\": {\n        \"dtype\": \"category\",\n        \"num_unique_values\": 6,\n        \"samples\": [\n          \"36-47\",\n          \"48-59\"\n        ],\n        \"semantic_type\": \"\",\n        \"description\": \"\"\n      }\n    },\n    {\n      \"column\": \"education\",\n      \"properties\": {\n        \"dtype\": \"category\",\n        \"num_unique_values\": 2,\n        \"samples\": [\n          \"Primary\",\n          \"Secondary+\"\n        ],\n        \"semantic_type\": \"\",\n        \"description\": \"\"\n      }\n    },\n    {\n      \"column\": \"wealth_index\",\n      \"properties\": {\n        \"dtype\": \"category\",\n        \"num_unique_values\": 5,\n        \"samples\": [\n          \"Second\",\n          \"Middle\"\n        ],\n        \"semantic_type\": \"\",\n        \"description\": \"\"\n      }\n    }\n  ]\n}"
            }
          },
          "metadata": {},
          "execution_count": 14
        }
      ]
    },
    {
      "cell_type": "code",
      "source": [
        "df.info()"
      ],
      "metadata": {
        "colab": {
          "base_uri": "https://localhost:8080/"
        },
        "id": "xh_5sZIFgkgF",
        "outputId": "edb8dcc1-9a17-44be-fa9f-75bac72fbd14"
      },
      "execution_count": 18,
      "outputs": [
        {
          "output_type": "stream",
          "name": "stdout",
          "text": [
            "<class 'pandas.core.frame.DataFrame'>\n",
            "RangeIndex: 799 entries, 0 to 798\n",
            "Data columns (total 10 columns):\n",
            " #   Column                                            Non-Null Count  Dtype  \n",
            "---  ------                                            --------------  -----  \n",
            " 0   Child participated in POLIO campaign August 2013  799 non-null    int64  \n",
            " 1    diarrhea_status                                  799 non-null    object \n",
            " 2   weight                                            799 non-null    float64\n",
            " 3   Height                                            799 non-null    float64\n",
            " 4   residence                                         799 non-null    object \n",
            " 5   Sex                                               799 non-null    object \n",
            " 6   age                                               799 non-null    int64  \n",
            " 7   age_category                                      799 non-null    object \n",
            " 8   education                                         768 non-null    object \n",
            " 9   wealth_index                                      799 non-null    object \n",
            "dtypes: float64(2), int64(2), object(6)\n",
            "memory usage: 62.5+ KB\n"
          ]
        }
      ]
    },
    {
      "cell_type": "code",
      "source": [
        "Height_sample=df['Height']\n",
        "sample=np.random.choice(Height_sample,200,replace=False)\n",
        "sample"
      ],
      "metadata": {
        "colab": {
          "base_uri": "https://localhost:8080/"
        },
        "id": "Ho91i4Vof7lG",
        "outputId": "104794c7-8ed7-4054-90f5-4ab94e2de4f3"
      },
      "execution_count": 16,
      "outputs": [
        {
          "output_type": "execute_result",
          "data": {
            "text/plain": [
              "array([ 67.3,  92.5,  67.6,  61.4,  79.4,  94.4,  52. , 101.7,  91.1,\n",
              "        89.5,  90.8,  78. , 108.6,  85.2,  99.6,  84.2, 102.2,  76.4,\n",
              "        80.5,  74.2,  51. ,  77.7,  80.5, 105.5, 101.6,  61.6,  89. ,\n",
              "        82.5,  99.6, 100.9,  90.1,  60. ,  76.9,  64.4,  94.3,  84.9,\n",
              "        57.9,  80. , 109.6,  73.8,  94.5, 103.3,  83.4,  60.3,  72. ,\n",
              "        88.5,  89. ,  79.9,  68.8,  87. ,  79.2,  68.6, 102. ,  63.5,\n",
              "        86. ,  94.6,  51.2,  85.5,  59.2,  73. ,  73.6,  90. , 108.9,\n",
              "        66.5,  88.5,  94.1,  82.3,  66.3,  83.4,  74. ,  82.3, 102.5,\n",
              "        50. ,  94.2,  70.3,  89.8,  66.3,  52.5,  74.6,  65. ,  80.9,\n",
              "        88.9, 100.6,  67. ,  96.5,  76.5,  96.4,  82.5,  82. ,  88.9,\n",
              "        70.1, 100.3,  63.3, 103.6, 101.5,  95.4,  81.4,  70.3, 102. ,\n",
              "        98.4,  90.4, 100.5,  87.3,  83.6,  97.2,  68.2,  79. ,  73.8,\n",
              "        62.1,  84.2,  79.8,  85.7,  90.3,  86.7,  72.5, 103.5,  84.6,\n",
              "        93.2,  87. ,  75.5, 104.6,  87. ,  84.3,  53.3, 114.3,  68. ,\n",
              "        92. ,  90.3,  84.3,  96.3,  68.5,  94.3,  71.3, 101.9,  99.4,\n",
              "        69.5,  79. ,  72.2, 101. ,  66.7,  75.5,  89.5,  91.5,  98.7,\n",
              "        86.5,  85. ,  78.3, 109.3,  65.7,  71.4,  87.3,  74. ,  65. ,\n",
              "       112.1, 102.8,  88. , 101.9,  99.5,  66. ,  82. ,  90.5,  81.5,\n",
              "        93.7,  86.1,  54.4,  64.2,  65.7,  95.5,  87.9,  78.2,  87.5,\n",
              "        70.2,  94.6,  99. ,  73.5,  89.3,  73.4,  75. ,  86.5,  97.5,\n",
              "        91.7,  90. ,  95. ,  84.6,  87.7,  86.1,  67. ,  91. ,  83.4,\n",
              "        65.1,  78.5,  65.3,  94.5,  51.6,  97.5,  68.4,  55.2,  74.4,\n",
              "       105.8,  70.9])"
            ]
          },
          "metadata": {},
          "execution_count": 16
        }
      ]
    },
    {
      "cell_type": "code",
      "source": [
        "import numpy as np\n",
        "# Given heights data\n",
        "heights = [165, 170, 168, 172, 169, 171, 166, 173,\n",
        "167, 174]\n",
        "heights\n"
      ],
      "metadata": {
        "colab": {
          "base_uri": "https://localhost:8080/"
        },
        "id": "EN-5ciDogvGl",
        "outputId": "fc7a7b00-9a89-405a-9031-e31634aa2798"
      },
      "execution_count": 20,
      "outputs": [
        {
          "output_type": "execute_result",
          "data": {
            "text/plain": [
              "10"
            ]
          },
          "metadata": {},
          "execution_count": 20
        }
      ]
    },
    {
      "cell_type": "code",
      "source": [
        "# Calculate the sample mean\n",
        "sample_mean = np.mean(heights)\n",
        "sample"
      ],
      "metadata": {
        "colab": {
          "base_uri": "https://localhost:8080/"
        },
        "id": "dpS5Tzc201fd",
        "outputId": "ea9375f1-7c81-4ec8-8bbb-9b1fc25d0392"
      },
      "execution_count": 26,
      "outputs": [
        {
          "output_type": "execute_result",
          "data": {
            "text/plain": [
              "array([ 67.3,  92.5,  67.6,  61.4,  79.4,  94.4,  52. , 101.7,  91.1,\n",
              "        89.5,  90.8,  78. , 108.6,  85.2,  99.6,  84.2, 102.2,  76.4,\n",
              "        80.5,  74.2,  51. ,  77.7,  80.5, 105.5, 101.6,  61.6,  89. ,\n",
              "        82.5,  99.6, 100.9,  90.1,  60. ,  76.9,  64.4,  94.3,  84.9,\n",
              "        57.9,  80. , 109.6,  73.8,  94.5, 103.3,  83.4,  60.3,  72. ,\n",
              "        88.5,  89. ,  79.9,  68.8,  87. ,  79.2,  68.6, 102. ,  63.5,\n",
              "        86. ,  94.6,  51.2,  85.5,  59.2,  73. ,  73.6,  90. , 108.9,\n",
              "        66.5,  88.5,  94.1,  82.3,  66.3,  83.4,  74. ,  82.3, 102.5,\n",
              "        50. ,  94.2,  70.3,  89.8,  66.3,  52.5,  74.6,  65. ,  80.9,\n",
              "        88.9, 100.6,  67. ,  96.5,  76.5,  96.4,  82.5,  82. ,  88.9,\n",
              "        70.1, 100.3,  63.3, 103.6, 101.5,  95.4,  81.4,  70.3, 102. ,\n",
              "        98.4,  90.4, 100.5,  87.3,  83.6,  97.2,  68.2,  79. ,  73.8,\n",
              "        62.1,  84.2,  79.8,  85.7,  90.3,  86.7,  72.5, 103.5,  84.6,\n",
              "        93.2,  87. ,  75.5, 104.6,  87. ,  84.3,  53.3, 114.3,  68. ,\n",
              "        92. ,  90.3,  84.3,  96.3,  68.5,  94.3,  71.3, 101.9,  99.4,\n",
              "        69.5,  79. ,  72.2, 101. ,  66.7,  75.5,  89.5,  91.5,  98.7,\n",
              "        86.5,  85. ,  78.3, 109.3,  65.7,  71.4,  87.3,  74. ,  65. ,\n",
              "       112.1, 102.8,  88. , 101.9,  99.5,  66. ,  82. ,  90.5,  81.5,\n",
              "        93.7,  86.1,  54.4,  64.2,  65.7,  95.5,  87.9,  78.2,  87.5,\n",
              "        70.2,  94.6,  99. ,  73.5,  89.3,  73.4,  75. ,  86.5,  97.5,\n",
              "        91.7,  90. ,  95. ,  84.6,  87.7,  86.1,  67. ,  91. ,  83.4,\n",
              "        65.1,  78.5,  65.3,  94.5,  51.6,  97.5,  68.4,  55.2,  74.4,\n",
              "       105.8,  70.9])"
            ]
          },
          "metadata": {},
          "execution_count": 26
        }
      ]
    },
    {
      "cell_type": "code",
      "source": [
        "# Calculate the sample standard deviation\n",
        "sample_sd = np.std(heights, ddof=1)\n",
        "sample_sd"
      ],
      "metadata": {
        "colab": {
          "base_uri": "https://localhost:8080/"
        },
        "id": "aQkBsPIl1IfD",
        "outputId": "d2d75a35-1780-4fff-ca81-48825153894e"
      },
      "execution_count": 27,
      "outputs": [
        {
          "output_type": "execute_result",
          "data": {
            "text/plain": [
              "3.0276503540974917"
            ]
          },
          "metadata": {},
          "execution_count": 27
        }
      ]
    },
    {
      "cell_type": "code",
      "source": [
        "# Number of samples\n",
        "n = len(heights)\n",
        "n"
      ],
      "metadata": {
        "colab": {
          "base_uri": "https://localhost:8080/"
        },
        "id": "xDuFHYTO1Mgi",
        "outputId": "cfceb986-b4d6-4341-f372-3f5049205e4c"
      },
      "execution_count": 28,
      "outputs": [
        {
          "output_type": "execute_result",
          "data": {
            "text/plain": [
              "10"
            ]
          },
          "metadata": {},
          "execution_count": 28
        }
      ]
    },
    {
      "cell_type": "code",
      "source": [
        "# Calculate the standard error of the mean\n",
        "sem = sample_sd / np.sqrt(n)\n",
        "sem"
      ],
      "metadata": {
        "colab": {
          "base_uri": "https://localhost:8080/"
        },
        "id": "fXKqGAqDp2D1",
        "outputId": "4f57f34d-0faa-48bd-81ba-13e3465f13c3"
      },
      "execution_count": 29,
      "outputs": [
        {
          "output_type": "execute_result",
          "data": {
            "text/plain": [
              "0.9574271077563381"
            ]
          },
          "metadata": {},
          "execution_count": 29
        }
      ]
    },
    {
      "cell_type": "code",
      "source": [
        "# Construct the confidence interval (using z-score for 95% confidence)\n",
        "confidence_interval = (sample_mean - 1.96 * sem,\n",
        "sample_mean + 1.96 * sem)\n",
        "confidence_interval\n"
      ],
      "metadata": {
        "colab": {
          "base_uri": "https://localhost:8080/"
        },
        "id": "Dnvt-BIYp4P0",
        "outputId": "00ade568-b267-432e-f997-36ab81921a4b"
      },
      "execution_count": 30,
      "outputs": [
        {
          "output_type": "execute_result",
          "data": {
            "text/plain": [
              "(167.62344286879758, 171.37655713120242)"
            ]
          },
          "metadata": {},
          "execution_count": 30
        }
      ]
    },
    {
      "cell_type": "code",
      "source": [
        "# Print the confidence interval\n",
        "print(f\"95% Confidence Interval:[{confidence_interval[0]:.2f},{confidence_interval[1]:.2f}]\")"
      ],
      "metadata": {
        "colab": {
          "base_uri": "https://localhost:8080/"
        },
        "id": "1bQ07SHuqMv9",
        "outputId": "a4fd49b5-1ab9-4ada-fcf7-8a691b4e94ef"
      },
      "execution_count": 31,
      "outputs": [
        {
          "output_type": "stream",
          "name": "stdout",
          "text": [
            "95% Confidence Interval:[167.62,171.38]\n"
          ]
        }
      ]
    }
  ]
}